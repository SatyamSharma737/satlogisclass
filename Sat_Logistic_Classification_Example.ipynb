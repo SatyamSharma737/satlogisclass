{
  "nbformat": 4,
  "nbformat_minor": 0,
  "metadata": {
    "colab": {
      "name": "Sat_Logistic Classification Example",
      "provenance": [],
      "collapsed_sections": []
    },
    "kernelspec": {
      "name": "python3",
      "display_name": "Python 3"
    },
    "accelerator": "GPU"
  },
  "cells": [
    {
      "cell_type": "code",
      "metadata": {
        "id": "ZwOO9i_QZr78"
      },
      "source": [
        "# # Data Preprocessing\n",
        "# Importing the libraries\n",
        "import numpy as np\n",
        "import matplotlib.pyplot as plt\n",
        "import pandas as pd"
      ],
      "execution_count": 1,
      "outputs": []
    },
    {
      "cell_type": "code",
      "metadata": {
        "id": "A4Qo-Jl2aG_j",
        "colab": {
          "base_uri": "https://localhost:8080/"
        },
        "outputId": "50d16418-0eeb-4676-fc95-2c55f4f3f375"
      },
      "source": [
        "# Mounting Google Drive\n",
        "from google.colab import drive\n",
        "drive.mount('/content/drive')"
      ],
      "execution_count": 2,
      "outputs": [
        {
          "output_type": "stream",
          "text": [
            "Mounted at /content/drive\n"
          ],
          "name": "stdout"
        }
      ]
    },
    {
      "cell_type": "code",
      "metadata": {
        "id": "3HnItOnpPkgs",
        "colab": {
          "resources": {
            "http://localhost:8080/nbextensions/google.colab/files.js": {
              "data": "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",
              "ok": true,
              "headers": [
                [
                  "content-type",
                  "application/javascript"
                ]
              ],
              "status": 200,
              "status_text": ""
            }
          },
          "base_uri": "https://localhost:8080/",
          "height": 73
        },
        "outputId": "6f909447-5e5b-4f05-f9eb-d24631fd13f9"
      },
      "source": [
        "# importing Dataset from Local drive\n",
        "from google.colab import files\n",
        "Uploaded=files.upload()"
      ],
      "execution_count": 3,
      "outputs": [
        {
          "output_type": "display_data",
          "data": {
            "text/html": [
              "\n",
              "     <input type=\"file\" id=\"files-8d30b117-f7cd-4b5c-a8ec-bf45d611666f\" name=\"files[]\" multiple disabled\n",
              "        style=\"border:none\" />\n",
              "     <output id=\"result-8d30b117-f7cd-4b5c-a8ec-bf45d611666f\">\n",
              "      Upload widget is only available when the cell has been executed in the\n",
              "      current browser session. Please rerun this cell to enable.\n",
              "      </output>\n",
              "      <script src=\"/nbextensions/google.colab/files.js\"></script> "
            ],
            "text/plain": [
              "<IPython.core.display.HTML object>"
            ]
          },
          "metadata": {
            "tags": []
          }
        },
        {
          "output_type": "stream",
          "text": [
            "Saving Social_Network_Ads.csv to Social_Network_Ads.csv\n"
          ],
          "name": "stdout"
        }
      ]
    },
    {
      "cell_type": "code",
      "metadata": {
        "id": "uWaP03H3QYzq"
      },
      "source": [
        "# Importing the dataset from Google Drive\n",
        "dataset = pd.read_csv('Social_Network_Ads.csv')"
      ],
      "execution_count": 4,
      "outputs": []
    },
    {
      "cell_type": "code",
      "metadata": {
        "id": "nWZK_f-VaxXO",
        "colab": {
          "base_uri": "https://localhost:8080/"
        },
        "outputId": "eb1ab762-4503-441d-8954-5080c6279cfd"
      },
      "source": [
        "print(dataset)"
      ],
      "execution_count": 5,
      "outputs": [
        {
          "output_type": "stream",
          "text": [
            "      User ID  Gender  Age  EstimatedSalary  Purchased\n",
            "0    15624510    Male   19            19000          0\n",
            "1    15810944    Male   35            20000          0\n",
            "2    15668575  Female   26            43000          0\n",
            "3    15603246  Female   27            57000          0\n",
            "4    15804002    Male   19            76000          0\n",
            "..        ...     ...  ...              ...        ...\n",
            "395  15691863  Female   46            41000          1\n",
            "396  15706071    Male   51            23000          1\n",
            "397  15654296  Female   50            20000          1\n",
            "398  15755018    Male   36            33000          0\n",
            "399  15594041  Female   49            36000          1\n",
            "\n",
            "[400 rows x 5 columns]\n"
          ],
          "name": "stdout"
        }
      ]
    },
    {
      "cell_type": "code",
      "metadata": {
        "id": "pgzbDOQnT1I9",
        "colab": {
          "base_uri": "https://localhost:8080/"
        },
        "outputId": "9759a579-0324-4cc4-94d4-bb5e5584e8de"
      },
      "source": [
        "dataset.isnull().sum()"
      ],
      "execution_count": 6,
      "outputs": [
        {
          "output_type": "execute_result",
          "data": {
            "text/plain": [
              "User ID            0\n",
              "Gender             0\n",
              "Age                0\n",
              "EstimatedSalary    0\n",
              "Purchased          0\n",
              "dtype: int64"
            ]
          },
          "metadata": {
            "tags": []
          },
          "execution_count": 6
        }
      ]
    },
    {
      "cell_type": "code",
      "metadata": {
        "colab": {
          "base_uri": "https://localhost:8080/",
          "height": 284
        },
        "id": "gOz0dtTyPRO0",
        "outputId": "1769c084-f029-4ae1-d78b-9db470dc1279"
      },
      "source": [
        "dataset.describe()"
      ],
      "execution_count": 7,
      "outputs": [
        {
          "output_type": "execute_result",
          "data": {
            "text/html": [
              "<div>\n",
              "<style scoped>\n",
              "    .dataframe tbody tr th:only-of-type {\n",
              "        vertical-align: middle;\n",
              "    }\n",
              "\n",
              "    .dataframe tbody tr th {\n",
              "        vertical-align: top;\n",
              "    }\n",
              "\n",
              "    .dataframe thead th {\n",
              "        text-align: right;\n",
              "    }\n",
              "</style>\n",
              "<table border=\"1\" class=\"dataframe\">\n",
              "  <thead>\n",
              "    <tr style=\"text-align: right;\">\n",
              "      <th></th>\n",
              "      <th>User ID</th>\n",
              "      <th>Age</th>\n",
              "      <th>EstimatedSalary</th>\n",
              "      <th>Purchased</th>\n",
              "    </tr>\n",
              "  </thead>\n",
              "  <tbody>\n",
              "    <tr>\n",
              "      <th>count</th>\n",
              "      <td>4.000000e+02</td>\n",
              "      <td>400.000000</td>\n",
              "      <td>400.000000</td>\n",
              "      <td>400.000000</td>\n",
              "    </tr>\n",
              "    <tr>\n",
              "      <th>mean</th>\n",
              "      <td>1.569154e+07</td>\n",
              "      <td>37.655000</td>\n",
              "      <td>69742.500000</td>\n",
              "      <td>0.357500</td>\n",
              "    </tr>\n",
              "    <tr>\n",
              "      <th>std</th>\n",
              "      <td>7.165832e+04</td>\n",
              "      <td>10.482877</td>\n",
              "      <td>34096.960282</td>\n",
              "      <td>0.479864</td>\n",
              "    </tr>\n",
              "    <tr>\n",
              "      <th>min</th>\n",
              "      <td>1.556669e+07</td>\n",
              "      <td>18.000000</td>\n",
              "      <td>15000.000000</td>\n",
              "      <td>0.000000</td>\n",
              "    </tr>\n",
              "    <tr>\n",
              "      <th>25%</th>\n",
              "      <td>1.562676e+07</td>\n",
              "      <td>29.750000</td>\n",
              "      <td>43000.000000</td>\n",
              "      <td>0.000000</td>\n",
              "    </tr>\n",
              "    <tr>\n",
              "      <th>50%</th>\n",
              "      <td>1.569434e+07</td>\n",
              "      <td>37.000000</td>\n",
              "      <td>70000.000000</td>\n",
              "      <td>0.000000</td>\n",
              "    </tr>\n",
              "    <tr>\n",
              "      <th>75%</th>\n",
              "      <td>1.575036e+07</td>\n",
              "      <td>46.000000</td>\n",
              "      <td>88000.000000</td>\n",
              "      <td>1.000000</td>\n",
              "    </tr>\n",
              "    <tr>\n",
              "      <th>max</th>\n",
              "      <td>1.581524e+07</td>\n",
              "      <td>60.000000</td>\n",
              "      <td>150000.000000</td>\n",
              "      <td>1.000000</td>\n",
              "    </tr>\n",
              "  </tbody>\n",
              "</table>\n",
              "</div>"
            ],
            "text/plain": [
              "            User ID         Age  EstimatedSalary   Purchased\n",
              "count  4.000000e+02  400.000000       400.000000  400.000000\n",
              "mean   1.569154e+07   37.655000     69742.500000    0.357500\n",
              "std    7.165832e+04   10.482877     34096.960282    0.479864\n",
              "min    1.556669e+07   18.000000     15000.000000    0.000000\n",
              "25%    1.562676e+07   29.750000     43000.000000    0.000000\n",
              "50%    1.569434e+07   37.000000     70000.000000    0.000000\n",
              "75%    1.575036e+07   46.000000     88000.000000    1.000000\n",
              "max    1.581524e+07   60.000000    150000.000000    1.000000"
            ]
          },
          "metadata": {
            "tags": []
          },
          "execution_count": 7
        }
      ]
    },
    {
      "cell_type": "code",
      "metadata": {
        "id": "tsRc4pHha9aC"
      },
      "source": [
        "# Extracting dependent and independent variables:\n",
        "# Extracting independent variable:\n",
        "X = dataset.iloc[:, [1,2,3]].values\n",
        "# Extracting dependent variable:\n",
        "y = dataset.iloc[:, 4].values\n"
      ],
      "execution_count": 8,
      "outputs": []
    },
    {
      "cell_type": "code",
      "metadata": {
        "id": "VWqeqy-1bL4U",
        "colab": {
          "base_uri": "https://localhost:8080/"
        },
        "outputId": "6028f089-cbd5-4aa9-cedc-c00481fe8fd2"
      },
      "source": [
        "print(X)"
      ],
      "execution_count": 9,
      "outputs": [
        {
          "output_type": "stream",
          "text": [
            "[['Male' 19 19000]\n",
            " ['Male' 35 20000]\n",
            " ['Female' 26 43000]\n",
            " ...\n",
            " ['Female' 50 20000]\n",
            " ['Male' 36 33000]\n",
            " ['Female' 49 36000]]\n"
          ],
          "name": "stdout"
        }
      ]
    },
    {
      "cell_type": "code",
      "metadata": {
        "id": "Z2H0MbXaediz"
      },
      "source": [
        "# Encoding Categorical data:\n",
        "# Encoding the Independent Variable\n",
        "from sklearn.preprocessing import LabelEncoder\n",
        "labelencoder_X = LabelEncoder()\n",
        "X[:, 0] = labelencoder_X.fit_transform(X[:, 0])"
      ],
      "execution_count": 10,
      "outputs": []
    },
    {
      "cell_type": "code",
      "metadata": {
        "id": "OWbhrBypeyV1",
        "colab": {
          "base_uri": "https://localhost:8080/"
        },
        "outputId": "016a25f8-b38c-47dd-ab56-dba3e03c05e1"
      },
      "source": [
        "print(X)"
      ],
      "execution_count": 11,
      "outputs": [
        {
          "output_type": "stream",
          "text": [
            "[[1 19 19000]\n",
            " [1 35 20000]\n",
            " [0 26 43000]\n",
            " ...\n",
            " [0 50 20000]\n",
            " [1 36 33000]\n",
            " [0 49 36000]]\n"
          ],
          "name": "stdout"
        }
      ]
    },
    {
      "cell_type": "code",
      "metadata": {
        "id": "KrRWpkzbbS4P",
        "colab": {
          "base_uri": "https://localhost:8080/"
        },
        "outputId": "c0187f3b-19f6-4e2f-ad09-d0661c13d8a9"
      },
      "source": [
        "print(y)"
      ],
      "execution_count": 12,
      "outputs": [
        {
          "output_type": "stream",
          "text": [
            "[0 0 0 0 0 0 0 1 0 0 0 0 0 0 0 0 1 1 1 1 1 1 1 1 1 1 1 1 0 0 0 1 0 0 0 0 0\n",
            " 0 0 0 0 0 0 0 0 0 0 0 1 0 0 0 0 0 0 0 0 0 0 0 0 0 0 1 0 0 0 0 0 0 0 0 0 0\n",
            " 0 1 0 0 0 0 0 0 0 0 0 1 0 0 0 0 0 0 0 0 0 0 0 1 0 0 0 0 0 1 0 0 0 0 0 0 0\n",
            " 0 0 0 0 0 0 0 0 0 0 0 0 0 0 0 0 0 0 0 0 0 0 0 0 0 0 1 0 0 0 0 0 0 0 0 1 0\n",
            " 0 0 0 0 0 0 0 0 0 0 0 1 1 0 0 0 0 0 0 0 1 0 0 0 0 0 0 0 0 0 0 0 0 0 1 0 0\n",
            " 0 0 0 0 0 0 0 0 0 0 0 0 0 0 0 0 0 1 0 1 0 1 0 1 0 1 1 0 0 0 1 0 0 0 1 0 1\n",
            " 1 1 0 0 1 1 0 1 1 0 1 1 0 1 0 0 0 1 1 0 1 1 0 1 0 1 0 1 0 0 1 1 0 1 0 0 1\n",
            " 1 0 1 1 0 1 1 0 0 1 0 0 1 1 1 1 1 0 1 1 1 1 0 1 1 0 1 0 1 0 1 1 1 1 0 0 0\n",
            " 1 1 0 1 1 1 1 1 0 0 0 1 1 0 0 1 0 1 0 1 1 0 1 0 1 1 0 1 1 0 0 0 1 1 0 1 0\n",
            " 0 1 0 1 0 0 1 1 0 0 1 1 0 1 1 0 0 1 0 1 0 1 1 1 0 1 0 1 1 1 0 1 1 1 1 0 1\n",
            " 1 1 0 1 0 1 0 0 1 1 0 1 1 1 1 1 1 0 1 1 1 1 1 1 0 1 1 1 0 1]\n"
          ],
          "name": "stdout"
        }
      ]
    },
    {
      "cell_type": "code",
      "metadata": {
        "id": "UzrhbKTfbgVL"
      },
      "source": [
        "# Splitting the dataset into the Training set and Test set\n",
        "from sklearn.model_selection import train_test_split\n",
        "\n",
        "X_train, X_test, y_train, y_test = train_test_split(X, y, test_size = 0.25, random_state = 0)"
      ],
      "execution_count": 13,
      "outputs": []
    },
    {
      "cell_type": "code",
      "metadata": {
        "id": "7P72zs0Xbnqr",
        "colab": {
          "base_uri": "https://localhost:8080/"
        },
        "outputId": "e6e386e3-cd05-4336-858c-456677c222d9"
      },
      "source": [
        "print(X_train)"
      ],
      "execution_count": 14,
      "outputs": [
        {
          "output_type": "stream",
          "text": [
            "[[0 44 39000]\n",
            " [1 32 120000]\n",
            " [0 38 50000]\n",
            " [0 32 135000]\n",
            " [0 52 21000]\n",
            " [0 53 104000]\n",
            " [1 39 42000]\n",
            " [1 38 61000]\n",
            " [0 36 50000]\n",
            " [0 36 63000]\n",
            " [0 35 25000]\n",
            " [1 35 50000]\n",
            " [1 42 73000]\n",
            " [0 47 49000]\n",
            " [0 59 29000]\n",
            " [1 49 65000]\n",
            " [0 45 131000]\n",
            " [0 31 89000]\n",
            " [0 46 82000]\n",
            " [0 47 51000]\n",
            " [1 26 15000]\n",
            " [1 60 102000]\n",
            " [0 38 112000]\n",
            " [1 40 107000]\n",
            " [0 42 53000]\n",
            " [1 35 59000]\n",
            " [1 48 41000]\n",
            " [0 48 134000]\n",
            " [0 38 113000]\n",
            " [1 29 148000]\n",
            " [0 26 15000]\n",
            " [1 60 42000]\n",
            " [1 24 19000]\n",
            " [1 42 149000]\n",
            " [0 46 96000]\n",
            " [1 28 59000]\n",
            " [1 39 96000]\n",
            " [1 28 89000]\n",
            " [1 41 72000]\n",
            " [1 45 26000]\n",
            " [0 33 69000]\n",
            " [0 20 82000]\n",
            " [1 31 74000]\n",
            " [1 42 80000]\n",
            " [0 35 72000]\n",
            " [0 33 149000]\n",
            " [1 40 71000]\n",
            " [0 51 146000]\n",
            " [1 46 79000]\n",
            " [1 35 75000]\n",
            " [1 38 51000]\n",
            " [0 36 75000]\n",
            " [0 37 78000]\n",
            " [1 38 61000]\n",
            " [0 60 108000]\n",
            " [0 20 82000]\n",
            " [1 57 74000]\n",
            " [1 42 65000]\n",
            " [1 26 80000]\n",
            " [1 46 117000]\n",
            " [1 35 61000]\n",
            " [0 21 68000]\n",
            " [0 28 44000]\n",
            " [1 41 87000]\n",
            " [0 37 33000]\n",
            " [1 27 90000]\n",
            " [1 39 42000]\n",
            " [1 28 123000]\n",
            " [0 31 118000]\n",
            " [1 25 87000]\n",
            " [0 35 71000]\n",
            " [1 37 70000]\n",
            " [1 35 39000]\n",
            " [1 47 23000]\n",
            " [0 35 147000]\n",
            " [0 48 138000]\n",
            " [1 26 86000]\n",
            " [1 25 79000]\n",
            " [0 52 138000]\n",
            " [1 51 23000]\n",
            " [0 35 60000]\n",
            " [0 33 113000]\n",
            " [1 30 107000]\n",
            " [1 48 33000]\n",
            " [0 41 80000]\n",
            " [0 48 96000]\n",
            " [1 31 18000]\n",
            " [0 31 71000]\n",
            " [1 43 129000]\n",
            " [0 59 76000]\n",
            " [0 18 44000]\n",
            " [1 36 118000]\n",
            " [0 42 90000]\n",
            " [0 47 30000]\n",
            " [0 26 43000]\n",
            " [1 40 78000]\n",
            " [1 46 59000]\n",
            " [0 59 42000]\n",
            " [0 46 74000]\n",
            " [1 35 91000]\n",
            " [0 28 59000]\n",
            " [1 40 57000]\n",
            " [1 59 143000]\n",
            " [0 57 26000]\n",
            " [0 52 38000]\n",
            " [0 47 113000]\n",
            " [0 53 143000]\n",
            " [1 35 27000]\n",
            " [0 58 101000]\n",
            " [0 45 45000]\n",
            " [0 23 82000]\n",
            " [1 46 23000]\n",
            " [1 42 65000]\n",
            " [0 28 84000]\n",
            " [1 38 59000]\n",
            " [0 26 84000]\n",
            " [0 29 28000]\n",
            " [0 37 71000]\n",
            " [0 22 55000]\n",
            " [0 48 35000]\n",
            " [1 49 28000]\n",
            " [0 38 65000]\n",
            " [0 27 17000]\n",
            " [1 46 28000]\n",
            " [1 48 141000]\n",
            " [0 26 17000]\n",
            " [0 35 97000]\n",
            " [0 39 59000]\n",
            " [0 24 27000]\n",
            " [1 32 18000]\n",
            " [1 46 88000]\n",
            " [1 35 58000]\n",
            " [1 56 60000]\n",
            " [1 47 34000]\n",
            " [0 40 72000]\n",
            " [1 32 100000]\n",
            " [0 19 21000]\n",
            " [1 25 90000]\n",
            " [1 35 88000]\n",
            " [1 28 32000]\n",
            " [0 50 20000]\n",
            " [1 40 59000]\n",
            " [0 50 44000]\n",
            " [1 35 72000]\n",
            " [0 40 142000]\n",
            " [0 46 32000]\n",
            " [0 39 71000]\n",
            " [1 20 74000]\n",
            " [1 29 75000]\n",
            " [1 31 76000]\n",
            " [1 47 25000]\n",
            " [1 40 61000]\n",
            " [1 34 112000]\n",
            " [0 38 80000]\n",
            " [0 42 75000]\n",
            " [0 47 47000]\n",
            " [0 39 75000]\n",
            " [1 19 25000]\n",
            " [0 37 80000]\n",
            " [1 36 60000]\n",
            " [1 41 52000]\n",
            " [1 36 125000]\n",
            " [0 48 29000]\n",
            " [0 36 126000]\n",
            " [0 51 134000]\n",
            " [0 27 57000]\n",
            " [1 38 71000]\n",
            " [0 39 61000]\n",
            " [0 22 27000]\n",
            " [0 33 60000]\n",
            " [1 48 74000]\n",
            " [0 58 23000]\n",
            " [1 53 72000]\n",
            " [0 32 117000]\n",
            " [1 54 70000]\n",
            " [1 30 80000]\n",
            " [0 58 95000]\n",
            " [0 26 52000]\n",
            " [1 45 79000]\n",
            " [1 24 55000]\n",
            " [1 40 75000]\n",
            " [0 33 28000]\n",
            " [0 44 139000]\n",
            " [1 22 18000]\n",
            " [0 33 51000]\n",
            " [0 43 133000]\n",
            " [0 24 32000]\n",
            " [0 46 22000]\n",
            " [1 35 55000]\n",
            " [0 54 104000]\n",
            " [0 48 119000]\n",
            " [1 35 53000]\n",
            " [1 37 144000]\n",
            " [0 23 66000]\n",
            " [0 37 137000]\n",
            " [1 31 58000]\n",
            " [0 33 41000]\n",
            " [0 45 22000]\n",
            " [1 30 15000]\n",
            " [1 19 19000]\n",
            " [1 49 74000]\n",
            " [1 39 122000]\n",
            " [1 35 73000]\n",
            " [1 39 71000]\n",
            " [1 24 23000]\n",
            " [0 41 72000]\n",
            " [0 29 83000]\n",
            " [0 54 26000]\n",
            " [0 35 44000]\n",
            " [1 37 75000]\n",
            " [0 29 47000]\n",
            " [0 31 68000]\n",
            " [1 42 54000]\n",
            " [1 30 135000]\n",
            " [0 52 114000]\n",
            " [0 50 36000]\n",
            " [1 56 133000]\n",
            " [1 29 61000]\n",
            " [1 30 89000]\n",
            " [1 26 16000]\n",
            " [1 33 31000]\n",
            " [0 41 72000]\n",
            " [1 36 33000]\n",
            " [0 55 125000]\n",
            " [0 48 131000]\n",
            " [0 41 71000]\n",
            " [0 30 62000]\n",
            " [1 37 72000]\n",
            " [0 41 63000]\n",
            " [0 58 47000]\n",
            " [0 30 116000]\n",
            " [1 20 49000]\n",
            " [1 37 74000]\n",
            " [1 41 59000]\n",
            " [1 49 89000]\n",
            " [1 28 79000]\n",
            " [0 53 82000]\n",
            " [1 40 57000]\n",
            " [1 60 34000]\n",
            " [1 35 108000]\n",
            " [1 21 72000]\n",
            " [1 38 71000]\n",
            " [1 39 106000]\n",
            " [0 37 57000]\n",
            " [0 26 72000]\n",
            " [0 35 23000]\n",
            " [0 54 108000]\n",
            " [1 30 17000]\n",
            " [1 39 134000]\n",
            " [1 29 43000]\n",
            " [1 33 43000]\n",
            " [1 35 38000]\n",
            " [1 41 45000]\n",
            " [0 41 72000]\n",
            " [0 39 134000]\n",
            " [0 27 137000]\n",
            " [0 21 16000]\n",
            " [1 26 32000]\n",
            " [1 31 66000]\n",
            " [0 39 73000]\n",
            " [1 41 79000]\n",
            " [0 47 50000]\n",
            " [0 41 30000]\n",
            " [0 37 93000]\n",
            " [0 60 46000]\n",
            " [1 25 22000]\n",
            " [0 28 37000]\n",
            " [0 38 55000]\n",
            " [0 36 54000]\n",
            " [0 20 36000]\n",
            " [0 56 104000]\n",
            " [1 40 57000]\n",
            " [0 42 108000]\n",
            " [0 20 23000]\n",
            " [1 40 65000]\n",
            " [1 47 20000]\n",
            " [0 18 86000]\n",
            " [1 35 79000]\n",
            " [0 57 33000]\n",
            " [0 34 72000]\n",
            " [0 49 39000]\n",
            " [0 27 31000]\n",
            " [1 19 70000]\n",
            " [0 39 79000]\n",
            " [1 26 81000]\n",
            " [1 25 80000]\n",
            " [0 28 85000]\n",
            " [1 55 39000]\n",
            " [0 50 88000]\n",
            " [1 49 88000]\n",
            " [1 52 150000]\n",
            " [0 35 65000]\n",
            " [1 42 54000]\n",
            " [1 34 43000]\n",
            " [1 37 52000]\n",
            " [0 48 30000]\n",
            " [1 29 43000]\n",
            " [1 36 52000]\n",
            " [0 27 54000]\n",
            " [0 26 118000]]\n"
          ],
          "name": "stdout"
        }
      ]
    },
    {
      "cell_type": "code",
      "metadata": {
        "id": "MYY7nwKAbwIn",
        "colab": {
          "base_uri": "https://localhost:8080/"
        },
        "outputId": "225b5104-d830-4345-b06c-3f4d4f6db6a8"
      },
      "source": [
        "print(X_test)"
      ],
      "execution_count": 15,
      "outputs": [
        {
          "output_type": "stream",
          "text": [
            "[[1 30 87000]\n",
            " [0 38 50000]\n",
            " [1 35 75000]\n",
            " [0 30 79000]\n",
            " [0 35 50000]\n",
            " [1 27 20000]\n",
            " [0 31 15000]\n",
            " [1 36 144000]\n",
            " [0 18 68000]\n",
            " [1 47 43000]\n",
            " [1 30 49000]\n",
            " [0 28 55000]\n",
            " [1 37 55000]\n",
            " [1 39 77000]\n",
            " [1 20 86000]\n",
            " [0 32 117000]\n",
            " [1 37 77000]\n",
            " [1 19 85000]\n",
            " [0 55 130000]\n",
            " [1 35 22000]\n",
            " [0 35 47000]\n",
            " [0 47 144000]\n",
            " [0 41 51000]\n",
            " [1 47 105000]\n",
            " [0 23 28000]\n",
            " [0 49 141000]\n",
            " [0 28 87000]\n",
            " [1 29 80000]\n",
            " [0 37 62000]\n",
            " [0 32 86000]\n",
            " [1 21 88000]\n",
            " [1 37 79000]\n",
            " [1 57 60000]\n",
            " [1 37 53000]\n",
            " [1 24 58000]\n",
            " [1 18 52000]\n",
            " [1 22 81000]\n",
            " [0 34 43000]\n",
            " [0 31 34000]\n",
            " [0 49 36000]\n",
            " [1 27 88000]\n",
            " [1 41 52000]\n",
            " [0 27 84000]\n",
            " [1 35 20000]\n",
            " [0 43 112000]\n",
            " [0 27 58000]\n",
            " [0 37 80000]\n",
            " [0 52 90000]\n",
            " [1 26 30000]\n",
            " [1 49 86000]\n",
            " [0 57 122000]\n",
            " [0 34 25000]\n",
            " [0 35 57000]\n",
            " [1 34 115000]\n",
            " [0 59 88000]\n",
            " [1 45 32000]\n",
            " [0 29 83000]\n",
            " [0 26 80000]\n",
            " [1 49 28000]\n",
            " [1 23 20000]\n",
            " [1 32 18000]\n",
            " [1 60 42000]\n",
            " [1 19 76000]\n",
            " [1 36 99000]\n",
            " [0 19 26000]\n",
            " [1 60 83000]\n",
            " [0 24 89000]\n",
            " [1 27 58000]\n",
            " [1 40 47000]\n",
            " [0 42 70000]\n",
            " [0 32 150000]\n",
            " [0 35 77000]\n",
            " [0 22 63000]\n",
            " [1 45 22000]\n",
            " [1 27 89000]\n",
            " [1 18 82000]\n",
            " [0 42 79000]\n",
            " [0 40 60000]\n",
            " [0 53 34000]\n",
            " [0 47 107000]\n",
            " [1 58 144000]\n",
            " [0 59 83000]\n",
            " [0 24 55000]\n",
            " [0 26 35000]\n",
            " [0 58 38000]\n",
            " [0 42 80000]\n",
            " [0 40 75000]\n",
            " [1 59 130000]\n",
            " [0 46 41000]\n",
            " [0 41 60000]\n",
            " [1 42 64000]\n",
            " [0 37 146000]\n",
            " [0 23 48000]\n",
            " [1 25 33000]\n",
            " [1 24 84000]\n",
            " [0 27 96000]\n",
            " [1 23 63000]\n",
            " [1 48 33000]\n",
            " [1 48 90000]\n",
            " [1 42 104000]]\n"
          ],
          "name": "stdout"
        }
      ]
    },
    {
      "cell_type": "code",
      "metadata": {
        "id": "4SE8ozd4b1Fg",
        "colab": {
          "base_uri": "https://localhost:8080/"
        },
        "outputId": "2aef6ed9-fe29-4f8f-ff7b-e082ccbfe76f"
      },
      "source": [
        "print(y_test)"
      ],
      "execution_count": 16,
      "outputs": [
        {
          "output_type": "stream",
          "text": [
            "[0 0 0 0 0 0 0 1 0 0 0 0 0 0 0 0 0 0 1 0 0 1 0 1 0 1 0 0 0 0 0 1 1 0 0 0 0\n",
            " 0 0 1 0 0 0 0 1 0 0 1 0 1 1 0 0 0 1 1 0 0 1 0 0 1 0 1 0 1 0 0 0 0 1 0 0 1\n",
            " 0 0 0 0 1 1 1 0 0 0 1 1 0 1 1 0 0 1 0 0 0 1 0 1 1 1]\n"
          ],
          "name": "stdout"
        }
      ]
    },
    {
      "cell_type": "code",
      "metadata": {
        "id": "zSCby589b4kz",
        "colab": {
          "base_uri": "https://localhost:8080/"
        },
        "outputId": "323a673c-ee05-40b3-8f65-dea4b91d9574"
      },
      "source": [
        "print(y_train)"
      ],
      "execution_count": 17,
      "outputs": [
        {
          "output_type": "stream",
          "text": [
            "[0 1 0 1 1 1 0 0 0 0 0 0 1 1 1 0 1 0 0 1 0 1 0 1 0 0 1 1 1 1 0 1 0 1 0 0 1\n",
            " 0 0 1 0 0 0 0 0 1 1 1 1 0 0 0 1 0 1 0 1 0 0 1 0 0 0 1 0 0 0 1 1 0 0 1 0 1\n",
            " 1 1 0 0 1 1 0 0 1 1 0 1 0 0 1 1 0 1 1 1 0 0 0 0 0 1 0 0 1 1 1 1 1 0 1 1 0\n",
            " 1 0 0 0 0 0 0 0 1 1 0 0 1 0 0 1 0 0 0 1 0 1 1 0 1 0 0 0 0 1 0 0 0 1 1 0 0\n",
            " 0 0 1 0 1 0 0 0 1 0 0 0 0 1 1 1 0 0 0 0 0 0 1 1 1 1 1 0 1 0 0 0 0 0 1 0 0\n",
            " 0 0 0 0 1 1 0 1 0 1 0 0 1 0 0 0 1 0 0 0 0 0 1 0 0 0 0 0 1 0 1 1 0 0 0 0 0\n",
            " 0 1 1 0 0 0 0 1 0 0 0 0 1 0 1 0 1 0 0 0 1 0 0 0 1 0 1 0 0 0 0 0 1 1 0 0 0\n",
            " 0 0 1 0 1 1 0 0 0 0 0 1 0 1 0 0 1 0 0 1 0 1 0 0 0 0 0 0 1 1 1 1 0 0 0 0 1\n",
            " 0 0 0 0]\n"
          ],
          "name": "stdout"
        }
      ]
    },
    {
      "cell_type": "code",
      "metadata": {
        "id": "6NqiYuyCRsDR"
      },
      "source": [
        "# Feature Scaling\n",
        "from sklearn.preprocessing import StandardScaler\n",
        "sc = StandardScaler()\n",
        "X_train = sc.fit_transform(X_train)\n",
        "X_test = sc.transform(X_test)"
      ],
      "execution_count": 18,
      "outputs": []
    },
    {
      "cell_type": "code",
      "metadata": {
        "colab": {
          "base_uri": "https://localhost:8080/"
        },
        "id": "ug2tODW9sjF2",
        "outputId": "d52ec91e-deb0-4c43-842f-2b9cf026c7c5"
      },
      "source": [
        "print(X_train)"
      ],
      "execution_count": 19,
      "outputs": [
        {
          "output_type": "stream",
          "text": [
            "[[-0.98019606  0.58164944 -0.88670699]\n",
            " [ 1.02020406 -0.60673761  1.46173768]\n",
            " [-0.98019606 -0.01254409 -0.5677824 ]\n",
            " [-0.98019606 -0.60673761  1.89663484]\n",
            " [-0.98019606  1.37390747 -1.40858358]\n",
            " [-0.98019606  1.47293972  0.99784738]\n",
            " [ 1.02020406  0.08648817 -0.79972756]\n",
            " [ 1.02020406 -0.01254409 -0.24885782]\n",
            " [-0.98019606 -0.21060859 -0.5677824 ]\n",
            " [-0.98019606 -0.21060859 -0.19087153]\n",
            " [-0.98019606 -0.30964085 -1.29261101]\n",
            " [ 1.02020406 -0.30964085 -0.5677824 ]\n",
            " [ 1.02020406  0.38358493  0.09905991]\n",
            " [-0.98019606  0.8787462  -0.59677555]\n",
            " [-0.98019606  2.06713324 -1.17663843]\n",
            " [ 1.02020406  1.07681071 -0.13288524]\n",
            " [-0.98019606  0.68068169  1.78066227]\n",
            " [-0.98019606 -0.70576986  0.56295021]\n",
            " [-0.98019606  0.77971394  0.35999821]\n",
            " [-0.98019606  0.8787462  -0.53878926]\n",
            " [ 1.02020406 -1.20093113 -1.58254245]\n",
            " [ 1.02020406  2.1661655   0.93986109]\n",
            " [-0.98019606 -0.01254409  1.22979253]\n",
            " [ 1.02020406  0.18552042  1.08482681]\n",
            " [-0.98019606  0.38358493 -0.48080297]\n",
            " [ 1.02020406 -0.30964085 -0.30684411]\n",
            " [ 1.02020406  0.97777845 -0.8287207 ]\n",
            " [-0.98019606  0.97777845  1.8676417 ]\n",
            " [-0.98019606 -0.01254409  1.25878567]\n",
            " [ 1.02020406 -0.90383437  2.27354572]\n",
            " [-0.98019606 -1.20093113 -1.58254245]\n",
            " [ 1.02020406  2.1661655  -0.79972756]\n",
            " [ 1.02020406 -1.39899564 -1.46656987]\n",
            " [ 1.02020406  0.38358493  2.30253886]\n",
            " [-0.98019606  0.77971394  0.76590222]\n",
            " [ 1.02020406 -1.00286662 -0.30684411]\n",
            " [ 1.02020406  0.08648817  0.76590222]\n",
            " [ 1.02020406 -1.00286662  0.56295021]\n",
            " [ 1.02020406  0.28455268  0.07006676]\n",
            " [ 1.02020406  0.68068169 -1.26361786]\n",
            " [-0.98019606 -0.50770535 -0.01691267]\n",
            " [-0.98019606 -1.79512465  0.35999821]\n",
            " [ 1.02020406 -0.70576986  0.12805305]\n",
            " [ 1.02020406  0.38358493  0.30201192]\n",
            " [-0.98019606 -0.30964085  0.07006676]\n",
            " [-0.98019606 -0.50770535  2.30253886]\n",
            " [ 1.02020406  0.18552042  0.04107362]\n",
            " [-0.98019606  1.27487521  2.21555943]\n",
            " [ 1.02020406  0.77971394  0.27301877]\n",
            " [ 1.02020406 -0.30964085  0.1570462 ]\n",
            " [ 1.02020406 -0.01254409 -0.53878926]\n",
            " [-0.98019606 -0.21060859  0.1570462 ]\n",
            " [-0.98019606 -0.11157634  0.24402563]\n",
            " [ 1.02020406 -0.01254409 -0.24885782]\n",
            " [-0.98019606  2.1661655   1.11381995]\n",
            " [-0.98019606 -1.79512465  0.35999821]\n",
            " [ 1.02020406  1.86906873  0.12805305]\n",
            " [ 1.02020406  0.38358493 -0.13288524]\n",
            " [ 1.02020406 -1.20093113  0.30201192]\n",
            " [ 1.02020406  0.77971394  1.37475825]\n",
            " [ 1.02020406 -0.30964085 -0.24885782]\n",
            " [-0.98019606 -1.6960924  -0.04590581]\n",
            " [-0.98019606 -1.00286662 -0.74174127]\n",
            " [ 1.02020406  0.28455268  0.50496393]\n",
            " [-0.98019606 -0.11157634 -1.06066585]\n",
            " [ 1.02020406 -1.10189888  0.59194336]\n",
            " [ 1.02020406  0.08648817 -0.79972756]\n",
            " [ 1.02020406 -1.00286662  1.54871711]\n",
            " [-0.98019606 -0.70576986  1.40375139]\n",
            " [ 1.02020406 -1.29996338  0.50496393]\n",
            " [-0.98019606 -0.30964085  0.04107362]\n",
            " [ 1.02020406 -0.11157634  0.01208048]\n",
            " [ 1.02020406 -0.30964085 -0.88670699]\n",
            " [ 1.02020406  0.8787462  -1.3505973 ]\n",
            " [-0.98019606 -0.30964085  2.24455257]\n",
            " [-0.98019606  0.97777845  1.98361427]\n",
            " [ 1.02020406 -1.20093113  0.47597078]\n",
            " [ 1.02020406 -1.29996338  0.27301877]\n",
            " [-0.98019606  1.37390747  1.98361427]\n",
            " [ 1.02020406  1.27487521 -1.3505973 ]\n",
            " [-0.98019606 -0.30964085 -0.27785096]\n",
            " [-0.98019606 -0.50770535  1.25878567]\n",
            " [ 1.02020406 -0.80480212  1.08482681]\n",
            " [ 1.02020406  0.97777845 -1.06066585]\n",
            " [-0.98019606  0.28455268  0.30201192]\n",
            " [-0.98019606  0.97777845  0.76590222]\n",
            " [ 1.02020406 -0.70576986 -1.49556302]\n",
            " [-0.98019606 -0.70576986  0.04107362]\n",
            " [ 1.02020406  0.48261718  1.72267598]\n",
            " [-0.98019606  2.06713324  0.18603934]\n",
            " [-0.98019606 -1.99318916 -0.74174127]\n",
            " [ 1.02020406 -0.21060859  1.40375139]\n",
            " [-0.98019606  0.38358493  0.59194336]\n",
            " [-0.98019606  0.8787462  -1.14764529]\n",
            " [-0.98019606 -1.20093113 -0.77073441]\n",
            " [ 1.02020406  0.18552042  0.24402563]\n",
            " [ 1.02020406  0.77971394 -0.30684411]\n",
            " [-0.98019606  2.06713324 -0.79972756]\n",
            " [-0.98019606  0.77971394  0.12805305]\n",
            " [ 1.02020406 -0.30964085  0.6209365 ]\n",
            " [-0.98019606 -1.00286662 -0.30684411]\n",
            " [ 1.02020406  0.18552042 -0.3648304 ]\n",
            " [ 1.02020406  2.06713324  2.12857999]\n",
            " [-0.98019606  1.86906873 -1.26361786]\n",
            " [-0.98019606  1.37390747 -0.91570013]\n",
            " [-0.98019606  0.8787462   1.25878567]\n",
            " [-0.98019606  1.47293972  2.12857999]\n",
            " [ 1.02020406 -0.30964085 -1.23462472]\n",
            " [-0.98019606  1.96810099  0.91086794]\n",
            " [-0.98019606  0.68068169 -0.71274813]\n",
            " [-0.98019606 -1.49802789  0.35999821]\n",
            " [ 1.02020406  0.77971394 -1.3505973 ]\n",
            " [ 1.02020406  0.38358493 -0.13288524]\n",
            " [-0.98019606 -1.00286662  0.41798449]\n",
            " [ 1.02020406 -0.01254409 -0.30684411]\n",
            " [-0.98019606 -1.20093113  0.41798449]\n",
            " [-0.98019606 -0.90383437 -1.20563157]\n",
            " [-0.98019606 -0.11157634  0.04107362]\n",
            " [-0.98019606 -1.59706014 -0.42281668]\n",
            " [-0.98019606  0.97777845 -1.00267957]\n",
            " [ 1.02020406  1.07681071 -1.20563157]\n",
            " [-0.98019606 -0.01254409 -0.13288524]\n",
            " [-0.98019606 -1.10189888 -1.52455616]\n",
            " [ 1.02020406  0.77971394 -1.20563157]\n",
            " [ 1.02020406  0.97777845  2.07059371]\n",
            " [-0.98019606 -1.20093113 -1.52455616]\n",
            " [-0.98019606 -0.30964085  0.79489537]\n",
            " [-0.98019606  0.08648817 -0.30684411]\n",
            " [-0.98019606 -1.39899564 -1.23462472]\n",
            " [ 1.02020406 -0.60673761 -1.49556302]\n",
            " [ 1.02020406  0.77971394  0.53395707]\n",
            " [ 1.02020406 -0.30964085 -0.33583725]\n",
            " [ 1.02020406  1.77003648 -0.27785096]\n",
            " [ 1.02020406  0.8787462  -1.03167271]\n",
            " [-0.98019606  0.18552042  0.07006676]\n",
            " [ 1.02020406 -0.60673761  0.8818748 ]\n",
            " [-0.98019606 -1.89415691 -1.40858358]\n",
            " [ 1.02020406 -1.29996338  0.59194336]\n",
            " [ 1.02020406 -0.30964085  0.53395707]\n",
            " [ 1.02020406 -1.00286662 -1.089659  ]\n",
            " [-0.98019606  1.17584296 -1.43757673]\n",
            " [ 1.02020406  0.18552042 -0.30684411]\n",
            " [-0.98019606  1.17584296 -0.74174127]\n",
            " [ 1.02020406 -0.30964085  0.07006676]\n",
            " [-0.98019606  0.18552042  2.09958685]\n",
            " [-0.98019606  0.77971394 -1.089659  ]\n",
            " [-0.98019606  0.08648817  0.04107362]\n",
            " [ 1.02020406 -1.79512465  0.12805305]\n",
            " [ 1.02020406 -0.90383437  0.1570462 ]\n",
            " [ 1.02020406 -0.70576986  0.18603934]\n",
            " [ 1.02020406  0.8787462  -1.29261101]\n",
            " [ 1.02020406  0.18552042 -0.24885782]\n",
            " [ 1.02020406 -0.4086731   1.22979253]\n",
            " [-0.98019606 -0.01254409  0.30201192]\n",
            " [-0.98019606  0.38358493  0.1570462 ]\n",
            " [-0.98019606  0.8787462  -0.65476184]\n",
            " [-0.98019606  0.08648817  0.1570462 ]\n",
            " [ 1.02020406 -1.89415691 -1.29261101]\n",
            " [-0.98019606 -0.11157634  0.30201192]\n",
            " [ 1.02020406 -0.21060859 -0.27785096]\n",
            " [ 1.02020406  0.28455268 -0.50979612]\n",
            " [ 1.02020406 -0.21060859  1.6067034 ]\n",
            " [-0.98019606  0.97777845 -1.17663843]\n",
            " [-0.98019606 -0.21060859  1.63569655]\n",
            " [-0.98019606  1.27487521  1.8676417 ]\n",
            " [-0.98019606 -1.10189888 -0.3648304 ]\n",
            " [ 1.02020406 -0.01254409  0.04107362]\n",
            " [-0.98019606  0.08648817 -0.24885782]\n",
            " [-0.98019606 -1.59706014 -1.23462472]\n",
            " [-0.98019606 -0.50770535 -0.27785096]\n",
            " [ 1.02020406  0.97777845  0.12805305]\n",
            " [-0.98019606  1.96810099 -1.3505973 ]\n",
            " [ 1.02020406  1.47293972  0.07006676]\n",
            " [-0.98019606 -0.60673761  1.37475825]\n",
            " [ 1.02020406  1.57197197  0.01208048]\n",
            " [ 1.02020406 -0.80480212  0.30201192]\n",
            " [-0.98019606  1.96810099  0.73690908]\n",
            " [-0.98019606 -1.20093113 -0.50979612]\n",
            " [ 1.02020406  0.68068169  0.27301877]\n",
            " [ 1.02020406 -1.39899564 -0.42281668]\n",
            " [ 1.02020406  0.18552042  0.1570462 ]\n",
            " [-0.98019606 -0.50770535 -1.20563157]\n",
            " [-0.98019606  0.58164944  2.01260742]\n",
            " [ 1.02020406 -1.59706014 -1.49556302]\n",
            " [-0.98019606 -0.50770535 -0.53878926]\n",
            " [-0.98019606  0.48261718  1.83864855]\n",
            " [-0.98019606 -1.39899564 -1.089659  ]\n",
            " [-0.98019606  0.77971394 -1.37959044]\n",
            " [ 1.02020406 -0.30964085 -0.42281668]\n",
            " [-0.98019606  1.57197197  0.99784738]\n",
            " [-0.98019606  0.97777845  1.43274454]\n",
            " [ 1.02020406 -0.30964085 -0.48080297]\n",
            " [ 1.02020406 -0.11157634  2.15757314]\n",
            " [-0.98019606 -1.49802789 -0.1038921 ]\n",
            " [-0.98019606 -0.11157634  1.95462113]\n",
            " [ 1.02020406 -0.70576986 -0.33583725]\n",
            " [-0.98019606 -0.50770535 -0.8287207 ]\n",
            " [-0.98019606  0.68068169 -1.37959044]\n",
            " [ 1.02020406 -0.80480212 -1.58254245]\n",
            " [ 1.02020406 -1.89415691 -1.46656987]\n",
            " [ 1.02020406  1.07681071  0.12805305]\n",
            " [ 1.02020406  0.08648817  1.51972397]\n",
            " [ 1.02020406 -0.30964085  0.09905991]\n",
            " [ 1.02020406  0.08648817  0.04107362]\n",
            " [ 1.02020406 -1.39899564 -1.3505973 ]\n",
            " [-0.98019606  0.28455268  0.07006676]\n",
            " [-0.98019606 -0.90383437  0.38899135]\n",
            " [-0.98019606  1.57197197 -1.26361786]\n",
            " [-0.98019606 -0.30964085 -0.74174127]\n",
            " [ 1.02020406 -0.11157634  0.1570462 ]\n",
            " [-0.98019606 -0.90383437 -0.65476184]\n",
            " [-0.98019606 -0.70576986 -0.04590581]\n",
            " [ 1.02020406  0.38358493 -0.45180983]\n",
            " [ 1.02020406 -0.80480212  1.89663484]\n",
            " [-0.98019606  1.37390747  1.28777882]\n",
            " [-0.98019606  1.17584296 -0.97368642]\n",
            " [ 1.02020406  1.77003648  1.83864855]\n",
            " [ 1.02020406 -0.90383437 -0.24885782]\n",
            " [ 1.02020406 -0.80480212  0.56295021]\n",
            " [ 1.02020406 -1.20093113 -1.5535493 ]\n",
            " [ 1.02020406 -0.50770535 -1.11865214]\n",
            " [-0.98019606  0.28455268  0.07006676]\n",
            " [ 1.02020406 -0.21060859 -1.06066585]\n",
            " [-0.98019606  1.67100423  1.6067034 ]\n",
            " [-0.98019606  0.97777845  1.78066227]\n",
            " [-0.98019606  0.28455268  0.04107362]\n",
            " [-0.98019606 -0.80480212 -0.21986468]\n",
            " [ 1.02020406 -0.11157634  0.07006676]\n",
            " [-0.98019606  0.28455268 -0.19087153]\n",
            " [-0.98019606  1.96810099 -0.65476184]\n",
            " [-0.98019606 -0.80480212  1.3457651 ]\n",
            " [ 1.02020406 -1.79512465 -0.59677555]\n",
            " [ 1.02020406 -0.11157634  0.12805305]\n",
            " [ 1.02020406  0.28455268 -0.30684411]\n",
            " [ 1.02020406  1.07681071  0.56295021]\n",
            " [ 1.02020406 -1.00286662  0.27301877]\n",
            " [-0.98019606  1.47293972  0.35999821]\n",
            " [ 1.02020406  0.18552042 -0.3648304 ]\n",
            " [ 1.02020406  2.1661655  -1.03167271]\n",
            " [ 1.02020406 -0.30964085  1.11381995]\n",
            " [ 1.02020406 -1.6960924   0.07006676]\n",
            " [ 1.02020406 -0.01254409  0.04107362]\n",
            " [ 1.02020406  0.08648817  1.05583366]\n",
            " [-0.98019606 -0.11157634 -0.3648304 ]\n",
            " [-0.98019606 -1.20093113  0.07006676]\n",
            " [-0.98019606 -0.30964085 -1.3505973 ]\n",
            " [-0.98019606  1.57197197  1.11381995]\n",
            " [ 1.02020406 -0.80480212 -1.52455616]\n",
            " [ 1.02020406  0.08648817  1.8676417 ]\n",
            " [ 1.02020406 -0.90383437 -0.77073441]\n",
            " [ 1.02020406 -0.50770535 -0.77073441]\n",
            " [ 1.02020406 -0.30964085 -0.91570013]\n",
            " [ 1.02020406  0.28455268 -0.71274813]\n",
            " [-0.98019606  0.28455268  0.07006676]\n",
            " [-0.98019606  0.08648817  1.8676417 ]\n",
            " [-0.98019606 -1.10189888  1.95462113]\n",
            " [-0.98019606 -1.6960924  -1.5535493 ]\n",
            " [ 1.02020406 -1.20093113 -1.089659  ]\n",
            " [ 1.02020406 -0.70576986 -0.1038921 ]\n",
            " [-0.98019606  0.08648817  0.09905991]\n",
            " [ 1.02020406  0.28455268  0.27301877]\n",
            " [-0.98019606  0.8787462  -0.5677824 ]\n",
            " [-0.98019606  0.28455268 -1.14764529]\n",
            " [-0.98019606 -0.11157634  0.67892279]\n",
            " [-0.98019606  2.1661655  -0.68375498]\n",
            " [ 1.02020406 -1.29996338 -1.37959044]\n",
            " [-0.98019606 -1.00286662 -0.94469328]\n",
            " [-0.98019606 -0.01254409 -0.42281668]\n",
            " [-0.98019606 -0.21060859 -0.45180983]\n",
            " [-0.98019606 -1.79512465 -0.97368642]\n",
            " [-0.98019606  1.77003648  0.99784738]\n",
            " [ 1.02020406  0.18552042 -0.3648304 ]\n",
            " [-0.98019606  0.38358493  1.11381995]\n",
            " [-0.98019606 -1.79512465 -1.3505973 ]\n",
            " [ 1.02020406  0.18552042 -0.13288524]\n",
            " [ 1.02020406  0.8787462  -1.43757673]\n",
            " [-0.98019606 -1.99318916  0.47597078]\n",
            " [ 1.02020406 -0.30964085  0.27301877]\n",
            " [-0.98019606  1.86906873 -1.06066585]\n",
            " [-0.98019606 -0.4086731   0.07006676]\n",
            " [-0.98019606  1.07681071 -0.88670699]\n",
            " [-0.98019606 -1.10189888 -1.11865214]\n",
            " [ 1.02020406 -1.89415691  0.01208048]\n",
            " [-0.98019606  0.08648817  0.27301877]\n",
            " [ 1.02020406 -1.20093113  0.33100506]\n",
            " [ 1.02020406 -1.29996338  0.30201192]\n",
            " [-0.98019606 -1.00286662  0.44697764]\n",
            " [ 1.02020406  1.67100423 -0.88670699]\n",
            " [-0.98019606  1.17584296  0.53395707]\n",
            " [ 1.02020406  1.07681071  0.53395707]\n",
            " [ 1.02020406  1.37390747  2.331532  ]\n",
            " [-0.98019606 -0.30964085 -0.13288524]\n",
            " [ 1.02020406  0.38358493 -0.45180983]\n",
            " [ 1.02020406 -0.4086731  -0.77073441]\n",
            " [ 1.02020406 -0.11157634 -0.50979612]\n",
            " [-0.98019606  0.97777845 -1.14764529]\n",
            " [ 1.02020406 -0.90383437 -0.77073441]\n",
            " [ 1.02020406 -0.21060859 -0.50979612]\n",
            " [-0.98019606 -1.10189888 -0.45180983]\n",
            " [-0.98019606 -1.20093113  1.40375139]]\n"
          ],
          "name": "stdout"
        }
      ]
    },
    {
      "cell_type": "code",
      "metadata": {
        "id": "aF6idxZb9EtE",
        "colab": {
          "base_uri": "https://localhost:8080/"
        },
        "outputId": "8f56c35e-139a-4bba-8ae5-74a5b22690b3"
      },
      "source": [
        "from sklearn.linear_model  import LogisticRegression\n",
        "classifier = LogisticRegression(random_state=0)\n",
        "classifier.fit(X_train, y_train)\n",
        "\n"
      ],
      "execution_count": 21,
      "outputs": [
        {
          "output_type": "execute_result",
          "data": {
            "text/plain": [
              "LogisticRegression(C=1.0, class_weight=None, dual=False, fit_intercept=True,\n",
              "                   intercept_scaling=1, l1_ratio=None, max_iter=100,\n",
              "                   multi_class='auto', n_jobs=None, penalty='l2',\n",
              "                   random_state=0, solver='lbfgs', tol=0.0001, verbose=0,\n",
              "                   warm_start=False)"
            ]
          },
          "metadata": {
            "tags": []
          },
          "execution_count": 21
        }
      ]
    },
    {
      "cell_type": "code",
      "metadata": {
        "id": "Ax2tc-DC9ePa",
        "colab": {
          "base_uri": "https://localhost:8080/"
        },
        "outputId": "ba4b26ea-c6d2-4007-85df-9ac1407c2a8b"
      },
      "source": [
        "# Predicting the Test set results\n",
        "y_pred = classifier.predict(X_test)\n",
        "y_pred"
      ],
      "execution_count": 22,
      "outputs": [
        {
          "output_type": "execute_result",
          "data": {
            "text/plain": [
              "array([0, 0, 0, 0, 0, 0, 0, 1, 0, 1, 0, 0, 0, 0, 0, 0, 0, 0, 1, 0, 0, 1,\n",
              "       0, 1, 0, 1, 0, 0, 0, 0, 0, 0, 1, 0, 0, 0, 0, 0, 0, 1, 0, 0, 0, 0,\n",
              "       1, 0, 0, 1, 0, 1, 1, 0, 0, 0, 1, 0, 0, 0, 1, 0, 0, 1, 0, 0, 0, 1,\n",
              "       0, 0, 0, 0, 1, 0, 0, 0, 0, 0, 1, 0, 1, 1, 1, 1, 0, 0, 1, 1, 0, 1,\n",
              "       0, 0, 0, 1, 0, 0, 0, 0, 0, 0, 1, 1])"
            ]
          },
          "metadata": {
            "tags": []
          },
          "execution_count": 22
        }
      ]
    },
    {
      "cell_type": "code",
      "metadata": {
        "id": "fapkzgOR9oFV",
        "colab": {
          "base_uri": "https://localhost:8080/"
        },
        "outputId": "c65bfc81-9738-449d-8b09-a9be2c891669"
      },
      "source": [
        "# Making the Confusion Matrix\n",
        "from sklearn.metrics import confusion_matrix\n",
        "cm = confusion_matrix(y_test, y_pred)\n",
        "print('Confusion matrix: ')\n",
        "print(cm)"
      ],
      "execution_count": 23,
      "outputs": [
        {
          "output_type": "stream",
          "text": [
            "Confusion matrix: \n",
            "[[65  3]\n",
            " [ 7 25]]\n"
          ],
          "name": "stdout"
        }
      ]
    },
    {
      "cell_type": "code",
      "metadata": {
        "id": "THlm7D1z-Jux",
        "colab": {
          "base_uri": "https://localhost:8080/"
        },
        "outputId": "863c65fc-56be-47ee-eb6a-5da98653337b"
      },
      "source": [
        "# calculate Accuracy\n",
        "#               Y_pred\n",
        "#             0       1\n",
        "#          0[64     4(FP)]  Type 1 Error\n",
        "# y-test   1[4(FN)     28]  Type 2 Error\n",
        "\n",
        "from sklearn.metrics import accuracy_score\n",
        "print('Accuracy: %.2f' % (accuracy_score(y_test, y_pred)*100))"
      ],
      "execution_count": 24,
      "outputs": [
        {
          "output_type": "stream",
          "text": [
            "Accuracy: 90.00\n"
          ],
          "name": "stdout"
        }
      ]
    },
    {
      "cell_type": "code",
      "metadata": {
        "id": "nquS3pa4-lOH",
        "colab": {
          "base_uri": "https://localhost:8080/"
        },
        "outputId": "c39a089f-f510-43a8-b990-4c5b121ecaa1"
      },
      "source": [
        "from sklearn.metrics import precision_score\n",
        "from sklearn.metrics import recall_score\n",
        "from sklearn.metrics import f1_score\n",
        "# calculate precision\n",
        "# Precision = TruePositives / (TruePositives + FalsePositives)\n",
        "#               Y_pred\n",
        "#             0       1\n",
        "#          0[64     4(FP)]  Type 1 Error\n",
        "# y-test   1[4(FN)     28]  Type 2 Error\n",
        "precision = precision_score(y_test, y_pred, average='binary')\n",
        "print('Precision: %.3f' % (precision*100))"
      ],
      "execution_count": 25,
      "outputs": [
        {
          "output_type": "stream",
          "text": [
            "Precision: 89.286\n"
          ],
          "name": "stdout"
        }
      ]
    },
    {
      "cell_type": "code",
      "metadata": {
        "id": "1EcT47xu-sNJ",
        "colab": {
          "base_uri": "https://localhost:8080/"
        },
        "outputId": "6d87d914-a56f-43ac-f945-14d9e168a8fd"
      },
      "source": [
        "# calculate recall\n",
        "# Recall = TruePositives / (TruePositives + FalseNegatives)\n",
        "#               Y_pred\n",
        "#             0       1\n",
        "#          0[64     4(FP)]  Type 1 Error\n",
        "# y-test   1[4(FN)     28]  Type 2 Error\n",
        "recall = recall_score(y_test, y_pred, average='binary')\n",
        "print('Recall: %.3f' % (recall*100))"
      ],
      "execution_count": 26,
      "outputs": [
        {
          "output_type": "stream",
          "text": [
            "Recall: 78.125\n"
          ],
          "name": "stdout"
        }
      ]
    },
    {
      "cell_type": "code",
      "metadata": {
        "id": "82QxZrqD_At8",
        "colab": {
          "base_uri": "https://localhost:8080/"
        },
        "outputId": "11491e28-f1ee-4748-b6d2-bb75cb244368"
      },
      "source": [
        "# F-Measure = (2 * Precision * Recall) / (Precision + Recall)\n",
        "# calculate score\n",
        "score = f1_score(y_test, y_pred, average='binary')\n",
        "print('F-Measure: %.3f' % (score*100))"
      ],
      "execution_count": 27,
      "outputs": [
        {
          "output_type": "stream",
          "text": [
            "F-Measure: 83.333\n"
          ],
          "name": "stdout"
        }
      ]
    },
    {
      "cell_type": "code",
      "metadata": {
        "id": "p_lqiaGqJifQ",
        "colab": {
          "base_uri": "https://localhost:8080/"
        },
        "outputId": "5773c10d-3120-4a4d-e441-b1eea9ec1b6d"
      },
      "source": [
        "age = 41 #@param {type:\"number\"}\n",
        "gender = 1 #@param {type:\"number\"}\n",
        "Estimated_Salary = 150000 #@param {type:\"number\"}\n",
        "deepak = 0 #@param {type:\"number\"}\n",
        "output=classifier.predict(sc.transform([[ gender,age ,Estimated_Salary ]]))\n",
        "print(\"Purchased =\", output)\n",
        "if output==[1]:\n",
        "  print( 'Custome will purchase Product')\n",
        "else:\n",
        "  print('Customer will not purchase computer')\n"
      ],
      "execution_count": 28,
      "outputs": [
        {
          "output_type": "stream",
          "text": [
            "Purchased = [1]\n",
            "Custome will purchase Product\n"
          ],
          "name": "stdout"
        }
      ]
    },
    {
      "cell_type": "code",
      "metadata": {
        "id": "-vO2PW75dT75",
        "colab": {
          "base_uri": "https://localhost:8080/"
        },
        "outputId": "8fd83e1a-bc7d-4009-ea88-95242c8450e5"
      },
      "source": [
        "import pickle \n",
        "  \n",
        "# Save the trained model as a pickle string. \n",
        "saved_model = pickle.dumps(classifier) \n",
        "  \n",
        "# Load the pickled model \n",
        "model = pickle.loads(saved_model) \n",
        "  \n",
        "# Use the loaded pickled model to make predictions \n",
        "model.predict(X_test) "
      ],
      "execution_count": 30,
      "outputs": [
        {
          "output_type": "execute_result",
          "data": {
            "text/plain": [
              "array([0, 0, 0, 0, 0, 0, 0, 1, 0, 1, 0, 0, 0, 0, 0, 0, 0, 0, 1, 0, 0, 1,\n",
              "       0, 1, 0, 1, 0, 0, 0, 0, 0, 0, 1, 0, 0, 0, 0, 0, 0, 1, 0, 0, 0, 0,\n",
              "       1, 0, 0, 1, 0, 1, 1, 0, 0, 0, 1, 0, 0, 0, 1, 0, 0, 1, 0, 0, 0, 1,\n",
              "       0, 0, 0, 0, 1, 0, 0, 0, 0, 0, 1, 0, 1, 1, 1, 1, 0, 0, 1, 1, 0, 1,\n",
              "       0, 0, 0, 1, 0, 0, 0, 0, 0, 0, 1, 1])"
            ]
          },
          "metadata": {
            "tags": []
          },
          "execution_count": 30
        }
      ]
    },
    {
      "cell_type": "code",
      "metadata": {
        "id": "zX87_5gbfdTk",
        "colab": {
          "base_uri": "https://localhost:8080/"
        },
        "outputId": "347ddf27-3636-4d86-e5c4-83092355ec15"
      },
      "source": [
        "# save the model to disk\n",
        "import joblib\n",
        "filename = '/content/drive/My Drive/FDP/logistictmodel.sav'\n",
        "joblib.dump(classifier, filename)\n",
        " \n",
        "# some time later...\n",
        " \n",
        "# load the model from disk\n",
        "randomforest_model = joblib.load(filename)\n",
        "result = randomforest_model.score(X_test, y_test)\n",
        "print(result)"
      ],
      "execution_count": 31,
      "outputs": [
        {
          "output_type": "stream",
          "text": [
            "0.9\n"
          ],
          "name": "stdout"
        }
      ]
    },
    {
      "cell_type": "code",
      "metadata": {
        "colab": {
          "base_uri": "https://localhost:8080/"
        },
        "id": "sBMUDE_ghTZw",
        "outputId": "0972ba75-b667-4a2f-bc59-317350632ddc"
      },
      "source": [
        "import pickle \n",
        "print(\"[INFO] Saving model...\")\n",
        "# Save the trained model as a pickle string. \n",
        "saved_model=pickle.dump(classifier,open('/content/drive/My Drive/logisticmodel.pkl', 'wb')) \n",
        "# Saving model to disk"
      ],
      "execution_count": 32,
      "outputs": [
        {
          "output_type": "stream",
          "text": [
            "[INFO] Saving model...\n"
          ],
          "name": "stdout"
        }
      ]
    },
    {
      "cell_type": "code",
      "metadata": {
        "colab": {
          "base_uri": "https://localhost:8080/"
        },
        "id": "060HiAUjhVnF",
        "outputId": "dced8576-2cb6-45bf-dbdd-827574448c93"
      },
      "source": [
        "# Load the pickled model \n",
        "model = pickle.load(open('/content/drive/My Drive/logisticmodel.pkl', 'rb'))  \n",
        "# Use the loaded pickled model to make predictions \n",
        "model.predict(X_test)"
      ],
      "execution_count": 33,
      "outputs": [
        {
          "output_type": "execute_result",
          "data": {
            "text/plain": [
              "array([0, 0, 0, 0, 0, 0, 0, 1, 0, 1, 0, 0, 0, 0, 0, 0, 0, 0, 1, 0, 0, 1,\n",
              "       0, 1, 0, 1, 0, 0, 0, 0, 0, 0, 1, 0, 0, 0, 0, 0, 0, 1, 0, 0, 0, 0,\n",
              "       1, 0, 0, 1, 0, 1, 1, 0, 0, 0, 1, 0, 0, 0, 1, 0, 0, 1, 0, 0, 0, 1,\n",
              "       0, 0, 0, 0, 1, 0, 0, 0, 0, 0, 1, 0, 1, 1, 1, 1, 0, 0, 1, 1, 0, 1,\n",
              "       0, 0, 0, 1, 0, 0, 0, 0, 0, 0, 1, 1])"
            ]
          },
          "metadata": {
            "tags": []
          },
          "execution_count": 33
        }
      ]
    },
    {
      "cell_type": "code",
      "metadata": {
        "colab": {
          "base_uri": "https://localhost:8080/"
        },
        "id": "VZKDmW2claqK",
        "outputId": "38996c1f-b3f9-4879-b801-1899e07d7b47"
      },
      "source": [
        "# Mounting Google Drive\n",
        "from google.colab import drive\n",
        "drive.mount('/content/drive')"
      ],
      "execution_count": 34,
      "outputs": [
        {
          "output_type": "stream",
          "text": [
            "Drive already mounted at /content/drive; to attempt to forcibly remount, call drive.mount(\"/content/drive\", force_remount=True).\n"
          ],
          "name": "stdout"
        }
      ]
    },
    {
      "cell_type": "code",
      "metadata": {
        "colab": {
          "base_uri": "https://localhost:8080/"
        },
        "id": "9oO1wjRohYRE",
        "outputId": "aba50b29-f364-42df-a185-67227e2a2503"
      },
      "source": [
        "!pip install streamlit"
      ],
      "execution_count": 1,
      "outputs": [
        {
          "output_type": "stream",
          "text": [
            "Requirement already satisfied: streamlit in /usr/local/lib/python3.7/dist-packages (0.80.0)\n",
            "Requirement already satisfied: validators in /usr/local/lib/python3.7/dist-packages (from streamlit) (0.18.2)\n",
            "Requirement already satisfied: tzlocal in /usr/local/lib/python3.7/dist-packages (from streamlit) (1.5.1)\n",
            "Requirement already satisfied: packaging in /usr/local/lib/python3.7/dist-packages (from streamlit) (20.9)\n",
            "Requirement already satisfied: toml in /usr/local/lib/python3.7/dist-packages (from streamlit) (0.10.2)\n",
            "Requirement already satisfied: altair>=3.2.0 in /usr/local/lib/python3.7/dist-packages (from streamlit) (4.1.0)\n",
            "Requirement already satisfied: base58 in /usr/local/lib/python3.7/dist-packages (from streamlit) (2.1.0)\n",
            "Requirement already satisfied: tornado>=5.0 in /usr/local/lib/python3.7/dist-packages (from streamlit) (5.1.1)\n",
            "Requirement already satisfied: pyarrow; python_version < \"3.9\" in /usr/local/lib/python3.7/dist-packages (from streamlit) (3.0.0)\n",
            "Requirement already satisfied: pillow>=6.2.0 in /usr/local/lib/python3.7/dist-packages (from streamlit) (7.1.2)\n",
            "Requirement already satisfied: protobuf!=3.11,>=3.6.0 in /usr/local/lib/python3.7/dist-packages (from streamlit) (3.12.4)\n",
            "Requirement already satisfied: cachetools>=4.0 in /usr/local/lib/python3.7/dist-packages (from streamlit) (4.2.1)\n",
            "Requirement already satisfied: gitpython in /usr/local/lib/python3.7/dist-packages (from streamlit) (3.1.14)\n",
            "Requirement already satisfied: requests in /usr/local/lib/python3.7/dist-packages (from streamlit) (2.23.0)\n",
            "Requirement already satisfied: blinker in /usr/local/lib/python3.7/dist-packages (from streamlit) (1.4)\n",
            "Requirement already satisfied: pandas>=0.21.0 in /usr/local/lib/python3.7/dist-packages (from streamlit) (1.1.5)\n",
            "Requirement already satisfied: astor in /usr/local/lib/python3.7/dist-packages (from streamlit) (0.8.1)\n",
            "Requirement already satisfied: click>=7.0 in /usr/local/lib/python3.7/dist-packages (from streamlit) (7.1.2)\n",
            "Requirement already satisfied: numpy in /usr/local/lib/python3.7/dist-packages (from streamlit) (1.19.5)\n",
            "Requirement already satisfied: watchdog; platform_system != \"Darwin\" in /usr/local/lib/python3.7/dist-packages (from streamlit) (2.0.3)\n",
            "Requirement already satisfied: python-dateutil in /usr/local/lib/python3.7/dist-packages (from streamlit) (2.8.1)\n",
            "Requirement already satisfied: pydeck>=0.1.dev5 in /usr/local/lib/python3.7/dist-packages (from streamlit) (0.6.2)\n",
            "Requirement already satisfied: six>=1.4.0 in /usr/local/lib/python3.7/dist-packages (from validators->streamlit) (1.15.0)\n",
            "Requirement already satisfied: decorator>=3.4.0 in /usr/local/lib/python3.7/dist-packages (from validators->streamlit) (4.4.2)\n",
            "Requirement already satisfied: pytz in /usr/local/lib/python3.7/dist-packages (from tzlocal->streamlit) (2018.9)\n",
            "Requirement already satisfied: pyparsing>=2.0.2 in /usr/local/lib/python3.7/dist-packages (from packaging->streamlit) (2.4.7)\n",
            "Requirement already satisfied: jinja2 in /usr/local/lib/python3.7/dist-packages (from altair>=3.2.0->streamlit) (2.11.3)\n",
            "Requirement already satisfied: jsonschema in /usr/local/lib/python3.7/dist-packages (from altair>=3.2.0->streamlit) (2.6.0)\n",
            "Requirement already satisfied: toolz in /usr/local/lib/python3.7/dist-packages (from altair>=3.2.0->streamlit) (0.11.1)\n",
            "Requirement already satisfied: entrypoints in /usr/local/lib/python3.7/dist-packages (from altair>=3.2.0->streamlit) (0.3)\n",
            "Requirement already satisfied: setuptools in /usr/local/lib/python3.7/dist-packages (from protobuf!=3.11,>=3.6.0->streamlit) (56.0.0)\n",
            "Requirement already satisfied: gitdb<5,>=4.0.1 in /usr/local/lib/python3.7/dist-packages (from gitpython->streamlit) (4.0.7)\n",
            "Requirement already satisfied: urllib3!=1.25.0,!=1.25.1,<1.26,>=1.21.1 in /usr/local/lib/python3.7/dist-packages (from requests->streamlit) (1.24.3)\n",
            "Requirement already satisfied: chardet<4,>=3.0.2 in /usr/local/lib/python3.7/dist-packages (from requests->streamlit) (3.0.4)\n",
            "Requirement already satisfied: certifi>=2017.4.17 in /usr/local/lib/python3.7/dist-packages (from requests->streamlit) (2020.12.5)\n",
            "Requirement already satisfied: idna<3,>=2.5 in /usr/local/lib/python3.7/dist-packages (from requests->streamlit) (2.10)\n",
            "Requirement already satisfied: ipywidgets>=7.0.0 in /usr/local/lib/python3.7/dist-packages (from pydeck>=0.1.dev5->streamlit) (7.6.3)\n",
            "Requirement already satisfied: traitlets>=4.3.2 in /usr/local/lib/python3.7/dist-packages (from pydeck>=0.1.dev5->streamlit) (5.0.5)\n",
            "Requirement already satisfied: ipykernel>=5.1.2; python_version >= \"3.4\" in /usr/local/lib/python3.7/dist-packages (from pydeck>=0.1.dev5->streamlit) (5.5.3)\n",
            "Requirement already satisfied: MarkupSafe>=0.23 in /usr/local/lib/python3.7/dist-packages (from jinja2->altair>=3.2.0->streamlit) (1.1.1)\n",
            "Requirement already satisfied: smmap<5,>=3.0.1 in /usr/local/lib/python3.7/dist-packages (from gitdb<5,>=4.0.1->gitpython->streamlit) (4.0.0)\n",
            "Requirement already satisfied: ipython>=4.0.0; python_version >= \"3.3\" in /usr/local/lib/python3.7/dist-packages (from ipywidgets>=7.0.0->pydeck>=0.1.dev5->streamlit) (5.5.0)\n",
            "Requirement already satisfied: nbformat>=4.2.0 in /usr/local/lib/python3.7/dist-packages (from ipywidgets>=7.0.0->pydeck>=0.1.dev5->streamlit) (5.1.3)\n",
            "Requirement already satisfied: jupyterlab-widgets>=1.0.0; python_version >= \"3.6\" in /usr/local/lib/python3.7/dist-packages (from ipywidgets>=7.0.0->pydeck>=0.1.dev5->streamlit) (1.0.0)\n",
            "Requirement already satisfied: widgetsnbextension~=3.5.0 in /usr/local/lib/python3.7/dist-packages (from ipywidgets>=7.0.0->pydeck>=0.1.dev5->streamlit) (3.5.1)\n",
            "Requirement already satisfied: ipython-genutils in /usr/local/lib/python3.7/dist-packages (from traitlets>=4.3.2->pydeck>=0.1.dev5->streamlit) (0.2.0)\n",
            "Requirement already satisfied: jupyter-client in /usr/local/lib/python3.7/dist-packages (from ipykernel>=5.1.2; python_version >= \"3.4\"->pydeck>=0.1.dev5->streamlit) (5.3.5)\n",
            "Requirement already satisfied: pexpect; sys_platform != \"win32\" in /usr/local/lib/python3.7/dist-packages (from ipython>=4.0.0; python_version >= \"3.3\"->ipywidgets>=7.0.0->pydeck>=0.1.dev5->streamlit) (4.8.0)\n",
            "Requirement already satisfied: simplegeneric>0.8 in /usr/local/lib/python3.7/dist-packages (from ipython>=4.0.0; python_version >= \"3.3\"->ipywidgets>=7.0.0->pydeck>=0.1.dev5->streamlit) (0.8.1)\n",
            "Requirement already satisfied: prompt-toolkit<2.0.0,>=1.0.4 in /usr/local/lib/python3.7/dist-packages (from ipython>=4.0.0; python_version >= \"3.3\"->ipywidgets>=7.0.0->pydeck>=0.1.dev5->streamlit) (1.0.18)\n",
            "Requirement already satisfied: pickleshare in /usr/local/lib/python3.7/dist-packages (from ipython>=4.0.0; python_version >= \"3.3\"->ipywidgets>=7.0.0->pydeck>=0.1.dev5->streamlit) (0.7.5)\n",
            "Requirement already satisfied: pygments in /usr/local/lib/python3.7/dist-packages (from ipython>=4.0.0; python_version >= \"3.3\"->ipywidgets>=7.0.0->pydeck>=0.1.dev5->streamlit) (2.6.1)\n",
            "Requirement already satisfied: jupyter-core in /usr/local/lib/python3.7/dist-packages (from nbformat>=4.2.0->ipywidgets>=7.0.0->pydeck>=0.1.dev5->streamlit) (4.7.1)\n",
            "Requirement already satisfied: notebook>=4.4.1 in /usr/local/lib/python3.7/dist-packages (from widgetsnbextension~=3.5.0->ipywidgets>=7.0.0->pydeck>=0.1.dev5->streamlit) (5.3.1)\n",
            "Requirement already satisfied: pyzmq>=13 in /usr/local/lib/python3.7/dist-packages (from jupyter-client->ipykernel>=5.1.2; python_version >= \"3.4\"->pydeck>=0.1.dev5->streamlit) (22.0.3)\n",
            "Requirement already satisfied: ptyprocess>=0.5 in /usr/local/lib/python3.7/dist-packages (from pexpect; sys_platform != \"win32\"->ipython>=4.0.0; python_version >= \"3.3\"->ipywidgets>=7.0.0->pydeck>=0.1.dev5->streamlit) (0.7.0)\n",
            "Requirement already satisfied: wcwidth in /usr/local/lib/python3.7/dist-packages (from prompt-toolkit<2.0.0,>=1.0.4->ipython>=4.0.0; python_version >= \"3.3\"->ipywidgets>=7.0.0->pydeck>=0.1.dev5->streamlit) (0.2.5)\n",
            "Requirement already satisfied: Send2Trash in /usr/local/lib/python3.7/dist-packages (from notebook>=4.4.1->widgetsnbextension~=3.5.0->ipywidgets>=7.0.0->pydeck>=0.1.dev5->streamlit) (1.5.0)\n",
            "Requirement already satisfied: terminado>=0.8.1 in /usr/local/lib/python3.7/dist-packages (from notebook>=4.4.1->widgetsnbextension~=3.5.0->ipywidgets>=7.0.0->pydeck>=0.1.dev5->streamlit) (0.9.4)\n",
            "Requirement already satisfied: nbconvert in /usr/local/lib/python3.7/dist-packages (from notebook>=4.4.1->widgetsnbextension~=3.5.0->ipywidgets>=7.0.0->pydeck>=0.1.dev5->streamlit) (5.6.1)\n",
            "Requirement already satisfied: bleach in /usr/local/lib/python3.7/dist-packages (from nbconvert->notebook>=4.4.1->widgetsnbextension~=3.5.0->ipywidgets>=7.0.0->pydeck>=0.1.dev5->streamlit) (3.3.0)\n",
            "Requirement already satisfied: testpath in /usr/local/lib/python3.7/dist-packages (from nbconvert->notebook>=4.4.1->widgetsnbextension~=3.5.0->ipywidgets>=7.0.0->pydeck>=0.1.dev5->streamlit) (0.4.4)\n",
            "Requirement already satisfied: mistune<2,>=0.8.1 in /usr/local/lib/python3.7/dist-packages (from nbconvert->notebook>=4.4.1->widgetsnbextension~=3.5.0->ipywidgets>=7.0.0->pydeck>=0.1.dev5->streamlit) (0.8.4)\n",
            "Requirement already satisfied: defusedxml in /usr/local/lib/python3.7/dist-packages (from nbconvert->notebook>=4.4.1->widgetsnbextension~=3.5.0->ipywidgets>=7.0.0->pydeck>=0.1.dev5->streamlit) (0.7.1)\n",
            "Requirement already satisfied: pandocfilters>=1.4.1 in /usr/local/lib/python3.7/dist-packages (from nbconvert->notebook>=4.4.1->widgetsnbextension~=3.5.0->ipywidgets>=7.0.0->pydeck>=0.1.dev5->streamlit) (1.4.3)\n",
            "Requirement already satisfied: webencodings in /usr/local/lib/python3.7/dist-packages (from bleach->nbconvert->notebook>=4.4.1->widgetsnbextension~=3.5.0->ipywidgets>=7.0.0->pydeck>=0.1.dev5->streamlit) (0.5.1)\n"
          ],
          "name": "stdout"
        }
      ]
    },
    {
      "cell_type": "code",
      "metadata": {
        "colab": {
          "base_uri": "https://localhost:8080/"
        },
        "id": "fpyHbde3hbT7",
        "outputId": "43fe73ad-e1ec-49b7-b534-c437ca7808cb"
      },
      "source": [
        "# Mounting Google Drive\n",
        "from google.colab import drive\n",
        "drive.mount('/content/drive')"
      ],
      "execution_count": 2,
      "outputs": [
        {
          "output_type": "stream",
          "text": [
            "Drive already mounted at /content/drive; to attempt to forcibly remount, call drive.mount(\"/content/drive\", force_remount=True).\n"
          ],
          "name": "stdout"
        }
      ]
    },
    {
      "cell_type": "code",
      "metadata": {
        "colab": {
          "base_uri": "https://localhost:8080/"
        },
        "id": "wxoltxrHhdVD",
        "outputId": "2d66218b-e10a-4d46-bca7-0f6b60595c85"
      },
      "source": [
        "!pip install pyngrok"
      ],
      "execution_count": 3,
      "outputs": [
        {
          "output_type": "stream",
          "text": [
            "Collecting pyngrok\n",
            "\u001b[?25l  Downloading https://files.pythonhosted.org/packages/6b/4e/a2fe095bbe17cf26424c4abcd22a0490e22d01cc628f25af5e220ddbf6f0/pyngrok-5.0.5.tar.gz (745kB)\n",
            "\r\u001b[K     |▍                               | 10kB 20.0MB/s eta 0:00:01\r\u001b[K     |▉                               | 20kB 23.1MB/s eta 0:00:01\r\u001b[K     |█▎                              | 30kB 24.0MB/s eta 0:00:01\r\u001b[K     |█▊                              | 40kB 17.2MB/s eta 0:00:01\r\u001b[K     |██▏                             | 51kB 12.6MB/s eta 0:00:01\r\u001b[K     |██▋                             | 61kB 14.1MB/s eta 0:00:01\r\u001b[K     |███                             | 71kB 12.0MB/s eta 0:00:01\r\u001b[K     |███▌                            | 81kB 11.8MB/s eta 0:00:01\r\u001b[K     |████                            | 92kB 12.7MB/s eta 0:00:01\r\u001b[K     |████▍                           | 102kB 11.9MB/s eta 0:00:01\r\u001b[K     |████▉                           | 112kB 11.9MB/s eta 0:00:01\r\u001b[K     |█████▎                          | 122kB 11.9MB/s eta 0:00:01\r\u001b[K     |█████▊                          | 133kB 11.9MB/s eta 0:00:01\r\u001b[K     |██████▏                         | 143kB 11.9MB/s eta 0:00:01\r\u001b[K     |██████▋                         | 153kB 11.9MB/s eta 0:00:01\r\u001b[K     |███████                         | 163kB 11.9MB/s eta 0:00:01\r\u001b[K     |███████▌                        | 174kB 11.9MB/s eta 0:00:01\r\u001b[K     |████████                        | 184kB 11.9MB/s eta 0:00:01\r\u001b[K     |████████▍                       | 194kB 11.9MB/s eta 0:00:01\r\u001b[K     |████████▉                       | 204kB 11.9MB/s eta 0:00:01\r\u001b[K     |█████████▎                      | 215kB 11.9MB/s eta 0:00:01\r\u001b[K     |█████████▊                      | 225kB 11.9MB/s eta 0:00:01\r\u001b[K     |██████████▏                     | 235kB 11.9MB/s eta 0:00:01\r\u001b[K     |██████████▌                     | 245kB 11.9MB/s eta 0:00:01\r\u001b[K     |███████████                     | 256kB 11.9MB/s eta 0:00:01\r\u001b[K     |███████████▍                    | 266kB 11.9MB/s eta 0:00:01\r\u001b[K     |███████████▉                    | 276kB 11.9MB/s eta 0:00:01\r\u001b[K     |████████████▎                   | 286kB 11.9MB/s eta 0:00:01\r\u001b[K     |████████████▊                   | 296kB 11.9MB/s eta 0:00:01\r\u001b[K     |█████████████▏                  | 307kB 11.9MB/s eta 0:00:01\r\u001b[K     |█████████████▋                  | 317kB 11.9MB/s eta 0:00:01\r\u001b[K     |██████████████                  | 327kB 11.9MB/s eta 0:00:01\r\u001b[K     |██████████████▌                 | 337kB 11.9MB/s eta 0:00:01\r\u001b[K     |███████████████                 | 348kB 11.9MB/s eta 0:00:01\r\u001b[K     |███████████████▍                | 358kB 11.9MB/s eta 0:00:01\r\u001b[K     |███████████████▉                | 368kB 11.9MB/s eta 0:00:01\r\u001b[K     |████████████████▎               | 378kB 11.9MB/s eta 0:00:01\r\u001b[K     |████████████████▊               | 389kB 11.9MB/s eta 0:00:01\r\u001b[K     |█████████████████▏              | 399kB 11.9MB/s eta 0:00:01\r\u001b[K     |█████████████████▋              | 409kB 11.9MB/s eta 0:00:01\r\u001b[K     |██████████████████              | 419kB 11.9MB/s eta 0:00:01\r\u001b[K     |██████████████████▌             | 430kB 11.9MB/s eta 0:00:01\r\u001b[K     |███████████████████             | 440kB 11.9MB/s eta 0:00:01\r\u001b[K     |███████████████████▍            | 450kB 11.9MB/s eta 0:00:01\r\u001b[K     |███████████████████▉            | 460kB 11.9MB/s eta 0:00:01\r\u001b[K     |████████████████████▎           | 471kB 11.9MB/s eta 0:00:01\r\u001b[K     |████████████████████▊           | 481kB 11.9MB/s eta 0:00:01\r\u001b[K     |█████████████████████           | 491kB 11.9MB/s eta 0:00:01\r\u001b[K     |█████████████████████▌          | 501kB 11.9MB/s eta 0:00:01\r\u001b[K     |██████████████████████          | 512kB 11.9MB/s eta 0:00:01\r\u001b[K     |██████████████████████▍         | 522kB 11.9MB/s eta 0:00:01\r\u001b[K     |██████████████████████▉         | 532kB 11.9MB/s eta 0:00:01\r\u001b[K     |███████████████████████▎        | 542kB 11.9MB/s eta 0:00:01\r\u001b[K     |███████████████████████▊        | 552kB 11.9MB/s eta 0:00:01\r\u001b[K     |████████████████████████▏       | 563kB 11.9MB/s eta 0:00:01\r\u001b[K     |████████████████████████▋       | 573kB 11.9MB/s eta 0:00:01\r\u001b[K     |█████████████████████████       | 583kB 11.9MB/s eta 0:00:01\r\u001b[K     |█████████████████████████▌      | 593kB 11.9MB/s eta 0:00:01\r\u001b[K     |██████████████████████████      | 604kB 11.9MB/s eta 0:00:01\r\u001b[K     |██████████████████████████▍     | 614kB 11.9MB/s eta 0:00:01\r\u001b[K     |██████████████████████████▉     | 624kB 11.9MB/s eta 0:00:01\r\u001b[K     |███████████████████████████▎    | 634kB 11.9MB/s eta 0:00:01\r\u001b[K     |███████████████████████████▊    | 645kB 11.9MB/s eta 0:00:01\r\u001b[K     |████████████████████████████▏   | 655kB 11.9MB/s eta 0:00:01\r\u001b[K     |████████████████████████████▋   | 665kB 11.9MB/s eta 0:00:01\r\u001b[K     |█████████████████████████████   | 675kB 11.9MB/s eta 0:00:01\r\u001b[K     |█████████████████████████████▌  | 686kB 11.9MB/s eta 0:00:01\r\u001b[K     |██████████████████████████████  | 696kB 11.9MB/s eta 0:00:01\r\u001b[K     |██████████████████████████████▍ | 706kB 11.9MB/s eta 0:00:01\r\u001b[K     |██████████████████████████████▉ | 716kB 11.9MB/s eta 0:00:01\r\u001b[K     |███████████████████████████████▏| 727kB 11.9MB/s eta 0:00:01\r\u001b[K     |███████████████████████████████▋| 737kB 11.9MB/s eta 0:00:01\r\u001b[K     |████████████████████████████████| 747kB 11.9MB/s \n",
            "\u001b[?25hRequirement already satisfied: PyYAML in /usr/local/lib/python3.7/dist-packages (from pyngrok) (3.13)\n",
            "Building wheels for collected packages: pyngrok\n",
            "  Building wheel for pyngrok (setup.py) ... \u001b[?25l\u001b[?25hdone\n",
            "  Created wheel for pyngrok: filename=pyngrok-5.0.5-cp37-none-any.whl size=19246 sha256=dc3ef853034a60ea00bbfe9a5eb2596ea4a1e8f09176ce97e7e2989329b60d26\n",
            "  Stored in directory: /root/.cache/pip/wheels/0c/13/64/5ebbcc22eaf53fdf5766b397c1fb17c83f5775fdccf0ea1b88\n",
            "Successfully built pyngrok\n",
            "Installing collected packages: pyngrok\n",
            "Successfully installed pyngrok-5.0.5\n"
          ],
          "name": "stdout"
        }
      ]
    },
    {
      "cell_type": "code",
      "metadata": {
        "colab": {
          "base_uri": "https://localhost:8080/"
        },
        "id": "bYbmKCeMhgFk",
        "outputId": "adf2adea-5adb-42c6-b99f-5f49c705761d"
      },
      "source": [
        "!ngrok authtoken 1oEm0wopEJyjrT38ULluwUKK5fq_7ai4ZocZJ2YuFuoiJfoMh"
      ],
      "execution_count": 4,
      "outputs": [
        {
          "output_type": "stream",
          "text": [
            "Authtoken saved to configuration file: /root/.ngrok2/ngrok.yml\n"
          ],
          "name": "stdout"
        }
      ]
    },
    {
      "cell_type": "code",
      "metadata": {
        "colab": {
          "base_uri": "https://localhost:8080/"
        },
        "id": "2ZjIw4X0hjGd",
        "outputId": "6c90e4a5-5610-4147-e1c6-97172afc3dc0"
      },
      "source": [
        "%%writefile app.py\n",
        "import streamlit as st \n",
        "from PIL import Image\n",
        "import pickle\n",
        "import numpy as np\n",
        "import matplotlib.pyplot as plt\n",
        "import pandas as pd\n",
        "st.set_option('deprecation.showfileUploaderEncoding', False)\n",
        "# Load the pickled model\n",
        "model = pickle.load(open('/content/drive/My Drive/logisticmodel.pkl', 'rb')) \n",
        "# Feature Scaling\n",
        "dataset = pd.read_csv('/content/drive/My Drive/Social_Network_Ads.csv')\n",
        "# Extracting independent variable:\n",
        "X = dataset.iloc[:, [1,2,3]].values\n",
        "# Encoding the Independent Variable\n",
        "from sklearn.preprocessing import LabelEncoder\n",
        "labelencoder_X = LabelEncoder()\n",
        "X[:, 0] = labelencoder_X.fit_transform(X[:, 0])\n",
        "from sklearn.preprocessing import StandardScaler\n",
        "sc = StandardScaler()\n",
        "X = sc.fit_transform(X)\n",
        "def predict_note_authentication(UserID, Gender,Age,EstimatedSalary):\n",
        "  output= model.predict([[Gender,Age,EstimatedSalary]])\n",
        "  print(\"Purchased\", output)\n",
        "  if output==[1]:\n",
        "    prediction=\"Item will be purchased\"\n",
        "  else:\n",
        "    prediction=\"Item will not be purchased\"\n",
        "  print(prediction)\n",
        "  return prediction\n",
        "def main():\n",
        "    \n",
        "    html_temp = \"\"\"\n",
        "   <div class=\"\" style=\"background-color:Brown;\" >\n",
        "   <div class=\"clearfix\">           \n",
        "   <div class=\"col-md-12\">\n",
        "   <center><p style=\"font-size:40px;color:black;margin-top:10px;\">Poornima Institute of Engineering & Technology</p></center> \n",
        "   <center><p style=\"font-size:30px;color:black;margin-top:10px;\">Department of Computer Engineering</p></center> \n",
        "   <center><p style=\"font-size:25px;color:black;margin-top:10px;\"Machine Learning Lab Experiment</p></center> \n",
        "   </div>\n",
        "   </div>\n",
        "   </div>\n",
        "   \"\"\"\n",
        "    st.markdown(html_temp,unsafe_allow_html=True)\n",
        "    st.header(\"Item Purchase Prediction using Logistic Classification\")\n",
        "    \n",
        "    UserID = st.text_input(\"UserID\",\"\")\n",
        "    \n",
        "    #Gender1 = st.select_slider('Select a Gender Male:1 Female:0',options=['1', '0'])\n",
        "    Gender1 = st.number_input('Insert Gender Male:1 Female:0')\n",
        "    Age = st.number_input('Insert a Age',18,60)\n",
        "   \n",
        "    EstimatedSalary = st.number_input(\"Insert Estimated Salary\",15000,150000)\n",
        "    resul=\"\"\n",
        "    if st.button(\"Predict\"):\n",
        "      result=predict_note_authentication(UserID, Gender1,Age,EstimatedSalary)\n",
        "      st.success('Model has predicted {}'.format(result))\n",
        "      \n",
        "    if st.button(\"About\"):\n",
        "      st.subheader(\"Developed by Satyam Sharma\")\n",
        "      st.subheader(\"Computer Engineering\")\n",
        "\n",
        "if __name__=='__main__':\n",
        "  main()"
      ],
      "execution_count": 10,
      "outputs": [
        {
          "output_type": "stream",
          "text": [
            "Overwriting app.py\n"
          ],
          "name": "stdout"
        }
      ]
    },
    {
      "cell_type": "code",
      "metadata": {
        "colab": {
          "base_uri": "https://localhost:8080/"
        },
        "id": "GxA0-3cZhlHV",
        "outputId": "2a23dfa8-ffc1-451d-81f3-646ee776874c"
      },
      "source": [
        "!nohup streamlit run  app.py &"
      ],
      "execution_count": 6,
      "outputs": [
        {
          "output_type": "stream",
          "text": [
            "nohup: appending output to 'nohup.out'\n"
          ],
          "name": "stdout"
        }
      ]
    },
    {
      "cell_type": "code",
      "metadata": {
        "colab": {
          "base_uri": "https://localhost:8080/"
        },
        "id": "EMuBGZJbhnFv",
        "outputId": "4651f5ad-e298-4f83-ee55-49bfaa2313a8"
      },
      "source": [
        "from pyngrok import ngrok\n",
        "url=ngrok.connect(port='8050')\n",
        "url"
      ],
      "execution_count": 7,
      "outputs": [
        {
          "output_type": "execute_result",
          "data": {
            "text/plain": [
              "<NgrokTunnel: \"http://0a4632b83d84.ngrok.io\" -> \"http://localhost:80\">"
            ]
          },
          "metadata": {
            "tags": []
          },
          "execution_count": 7
        }
      ]
    },
    {
      "cell_type": "code",
      "metadata": {
        "colab": {
          "base_uri": "https://localhost:8080/"
        },
        "id": "Pk41IR_AiGuI",
        "outputId": "33f8e8d6-7d49-4d2c-d7e4-248cf8e1b2f6"
      },
      "source": [
        "!streamlit run --server.port 80 app.py"
      ],
      "execution_count": 8,
      "outputs": [
        {
          "output_type": "stream",
          "text": [
            "2021-04-27 05:47:31.057 An update to the [server] config option section was detected. To have these changes be reflected, please restart streamlit.\n",
            "\u001b[0m\n",
            "\u001b[34m\u001b[1m  You can now view your Streamlit app in your browser.\u001b[0m\n",
            "\u001b[0m\n",
            "\u001b[34m  Network URL: \u001b[0m\u001b[1mhttp://172.28.0.2:80\u001b[0m\n",
            "\u001b[34m  External URL: \u001b[0m\u001b[1mhttp://35.195.132.189:80\u001b[0m\n",
            "\u001b[0m\n",
            "\u001b[34m  Stopping...\u001b[0m\n"
          ],
          "name": "stdout"
        }
      ]
    },
    {
      "cell_type": "code",
      "metadata": {
        "id": "Ko_IQbUviJAf"
      },
      "source": [
        "ngrok.kill()"
      ],
      "execution_count": 9,
      "outputs": []
    },
    {
      "cell_type": "markdown",
      "metadata": {
        "id": "ZYJa0a_CiMbn"
      },
      "source": [
        "Model Deployment"
      ]
    },
    {
      "cell_type": "markdown",
      "metadata": {
        "id": "LbDcV8XZiPEW"
      },
      "source": [
        "Heroku has a pretty good free tier service, and lets you host up to 5 unverified apps at once (unverified means you haven’t given them a credit card), each with a custom domain."
      ]
    },
    {
      "cell_type": "markdown",
      "metadata": {
        "id": "yVzSlJnPiTV3"
      },
      "source": [
        "First you will need a requirements file that tells Heroku which Python libraries are required for your app, and which versions. The easiest way to generate this file is with the pipreqs library. You can install pipreqs with either pip or anaconda.\n",
        "\n",
        "Flask==1.1.1\n",
        "\n",
        "gunicorn==19.9.0\n",
        "\n",
        "itsdangerous==1.1.0\n",
        "\n",
        "Jinja2==2.10.1\n",
        "\n",
        "MarkupSafe==1.1.1\n",
        "\n",
        "Werkzeug==0.15.5\n",
        "\n",
        "numpy>=1.9.2\n",
        "\n",
        "scipy>=0.15.1\n",
        "\n",
        "scikit-learn==0.24.1\n",
        "\n",
        "matplotlib>=1.4.3\n",
        "\n",
        "pandas>=0.19\n",
        "\n",
        "streamlit"
      ]
    },
    {
      "cell_type": "markdown",
      "metadata": {
        "id": "p1tqRWxZifL1"
      },
      "source": [
        "Next you will need a bash script to configure Streamlit for use on Heroku. The file should be named “setup.sh” and should have the exact code below. You can edit the file in any text editor. Again, this needs to be in your project’s main directory.\n",
        "\n",
        "mkdir -p ~/.streamlit\n",
        "\n",
        "echo \"[server]\n",
        "\n",
        "headless = true\n",
        "\n",
        "port = $PORT\n",
        "\n",
        "enableCORS = false\n",
        "\n",
        "\" > ~/.streamlit/config.toml"
      ]
    },
    {
      "cell_type": "markdown",
      "metadata": {
        "id": "oZ7YitViii1f"
      },
      "source": [
        "Lastly, you need an odd file called a Procfile, which specifies the commands that are executed by the app on startup. It should be spelled exactly as “Procfile”, without any file extension, and should be in your project’s main directory. You can edit it with any text editor. Replace the last part of the code below with your Streamlit python script.\n",
        "\n",
        "web: sh setup.sh && streamlit run your-script.py"
      ]
    },
    {
      "cell_type": "markdown",
      "metadata": {
        "id": "ZyJ7TnkRilg9"
      },
      "source": [
        "Now all of the necessary files should be in your local repo: your python script (for Streamlit)\n",
        "\n",
        "Procfile\n",
        "\n",
        "setup.sh\n",
        "\n",
        "requirements.txt\n",
        "\n",
        "Any files that are read into the python script need to be in the directory as well.\n",
        "\n"
      ]
    }
  ]
}